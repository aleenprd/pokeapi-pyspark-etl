{
 "cells": [
  {
   "cell_type": "code",
   "execution_count": 5,
   "metadata": {},
   "outputs": [],
   "source": [
    "\n",
    "from pyspark.sql import SparkSession\n",
    "import pyspark.sql.functions as F"
   ]
  },
  {
   "cell_type": "code",
   "execution_count": 2,
   "metadata": {},
   "outputs": [
    {
     "name": "stdout",
     "output_type": "stream",
     "text": [
      "23/03/19 14:00:22 WARN Utils: Your hostname, tamsin resolves to a loopback address: 127.0.1.1; using 10.0.0.8 instead (on interface enp34s0)\n",
      "23/03/19 14:00:22 WARN Utils: Set SPARK_LOCAL_IP if you need to bind to another address\n"
     ]
    },
    {
     "name": "stderr",
     "output_type": "stream",
     "text": [
      "Setting default log level to \"WARN\".\n",
      "To adjust logging level use sc.setLogLevel(newLevel). For SparkR, use setLogLevel(newLevel).\n"
     ]
    },
    {
     "name": "stdout",
     "output_type": "stream",
     "text": [
      "23/03/19 14:00:22 WARN NativeCodeLoader: Unable to load native-hadoop library for your platform... using builtin-java classes where applicable\n",
      "23/03/19 14:00:23 WARN Utils: Service 'SparkUI' could not bind on port 4040. Attempting port 4041.\n"
     ]
    }
   ],
   "source": [
    "spark_config = {\n",
    "    \"spark.driver.memory\": \"4g\",\n",
    "    \"spark.executor.memory\": \"6g\",\n",
    "}\n",
    "\n",
    "spark_builder = SparkSession.builder.appName(\"pokemon-etl\")\n",
    "\n",
    "for key, val in spark_config.items():\n",
    "    spark_builder.config(key, val)\n",
    "spark = spark_builder.getOrCreate()"
   ]
  },
  {
   "cell_type": "code",
   "execution_count": 3,
   "metadata": {},
   "outputs": [],
   "source": [
    "pokemon_extract_path = '../data/transformed/pokemon'\n",
    "generation_extract_path = '../data/transformed/generation'\n",
    "evolution_extract_path = '../data/transformed/evolution'\n",
    "\n",
    "generation_coverage_path = '../data/transformed/generation_coverage'\n",
    "generation_stats_path = '../data/transformed/generation_stats'\n",
    "hidden_ability_path = '../data/transformed/hidden_ability'\n",
    "cosine_similarity_path = '../data/transformed/cosine_similarity'"
   ]
  },
  {
   "cell_type": "code",
   "execution_count": 4,
   "metadata": {},
   "outputs": [],
   "source": [
    "df_pokemon = spark.read.parquet(pokemon_extract_path)\n",
    "df_generation = spark.read.parquet(generation_extract_path)\n",
    "df_evolution = spark.read.parquet(evolution_extract_path)\n",
    "\n",
    "generation_coverage = spark.read.parquet(generation_coverage_path)\n",
    "generation_stats = spark.read.parquet(generation_stats_path)\n",
    "hidden_ability = spark.read.parquet(hidden_ability_path)\n",
    "cosine_similarity = spark.read.parquet(cosine_similarity_path)"
   ]
  },
  {
   "attachments": {},
   "cell_type": "markdown",
   "metadata": {},
   "source": [
    "1. What’s the <b>average for each base stats for every Pokémon type across all generations</b>?\n",
    "    - Need to know all Pokemon names.\n",
    "    - Need to know all Pokemon types.\n",
    "    - Need to know all generations.\n",
    "    - Need to know all base stat types.\n",
    "\n",
    "Which Pokemon has the highest overall stats? What about for each stat? What about the lowest?\n",
    "- All stats:\n",
    "\t- Highest: Arcanine - 92.5\n",
    "\t- Lowest: Caterpie - 32.5\n",
    "\n",
    "- Stat hp:\n",
    "\t- Highest: Wigglytuff - 140\n",
    "\t- Lowest: Diglett - 10\n",
    "\n",
    "- Stat attack:\n",
    "\t- Highest: Machamp - 130\n",
    "\t- Lowest: Abra - 20\n",
    "\n",
    "- Stat defense:\n",
    "\t- Highest: Cloyster - 180\n",
    "\t- Lowest: Abra - 15\n",
    "\n",
    "- Stat special attack:\n",
    "\t- Highest: Alakazam - 135\n",
    "\t- Lowest: Caterpie - 20\n",
    "\n",
    "- Stat special defense:\n",
    "\t- Highest: Tentacruel - 120\n",
    "\t- Lowest: Caterpie - 20\n",
    "\n",
    "- Stat speed:\n",
    "\t- Highest: Dugtrio - 120\n",
    "\t- Lowest: Slowpoke - 15\n"
   ]
  },
  {
   "cell_type": "code",
   "execution_count": 5,
   "metadata": {},
   "outputs": [
    {
     "name": "stdout",
     "output_type": "stream",
     "text": [
      "+-------------+-----------------+------------------------+------------------+-----------------+-----------------+-------------------------+-----------------+\n",
      "|generation_id|  avg(stat_speed)|avg(stat_special_attack)|avg(avg_all_stats)|     avg(stat_hp)|avg(stat_defense)|avg(stat_special_defense)| avg(stat_attack)|\n",
      "+-------------+-----------------+------------------------+------------------+-----------------+-----------------+-------------------------+-----------------+\n",
      "|            1|68.63513513513513|       66.87837837837837| 67.62274774774777|64.29729729729729|68.26351351351352|        65.29729729729729|72.36486486486487|\n",
      "|            2|61.12765957446808|      63.244680851063826| 66.90248226950354|70.51063829787235|68.65957446808511|        70.09574468085107|67.77659574468085|\n",
      "|            3|61.50769230769231|       67.63076923076923| 67.42564102564101|66.53076923076924|69.16153846153846|        66.94615384615385|72.77692307692308|\n",
      "|            4|68.60606060606061|       72.05050505050505| 73.26599326599326|72.46464646464646| 73.9090909090909|        73.22222222222223|79.34343434343434|\n",
      "|            5|64.93288590604027|       67.58389261744966| 69.95302013422818|69.50335570469798|71.11409395973155|        66.68456375838926| 79.8993288590604|\n",
      "|            6|64.77272727272727|       72.68181818181819|  70.6818181818182|68.34848484848484| 72.9090909090909|        72.63636363636364|72.74242424242425|\n",
      "|            7|64.08536585365853|        75.2560975609756| 74.82520325203254| 70.7560975609756| 79.3170731707317|        74.26829268292683|85.26829268292683|\n",
      "|            8|67.92857142857143|       70.96428571428571|  71.8730158730159|71.91666666666667|            71.75|        68.57142857142857|80.10714285714286|\n",
      "|            9|75.03883495145631|       70.30097087378641| 74.21682847896439|75.36893203883496|73.67961165048544|         69.6116504854369|81.30097087378641|\n",
      "+-------------+-----------------+------------------------+------------------+-----------------+-----------------+-------------------------+-----------------+\n",
      "\n"
     ]
    }
   ],
   "source": [
    "generation_stats.show()"
   ]
  },
  {
   "attachments": {},
   "cell_type": "markdown",
   "metadata": {},
   "source": [
    "Which generation has the speediest pokemon?"
   ]
  },
  {
   "cell_type": "code",
   "execution_count": 6,
   "metadata": {},
   "outputs": [
    {
     "name": "stdout",
     "output_type": "stream",
     "text": [
      "+-------------+-----------------+\n",
      "|generation_id|  avg(stat_speed)|\n",
      "+-------------+-----------------+\n",
      "|            9|75.03883495145631|\n",
      "+-------------+-----------------+\n",
      "\n"
     ]
    }
   ],
   "source": [
    "generation_stats.createOrReplaceTempView(\"avg_stats\")\n",
    "spark.sql(\n",
    "    \"\"\"\n",
    "    select generation_id, `avg(stat_speed)`\n",
    "    from avg_stats\n",
    "    where `avg(stat_speed)` in (\n",
    "        select  max(`avg(stat_speed)`)\n",
    "        from avg_stats\n",
    "        );\n",
    "    \"\"\"\n",
    ").show()"
   ]
  },
  {
   "attachments": {},
   "cell_type": "markdown",
   "metadata": {},
   "source": [
    "What of the slowest?"
   ]
  },
  {
   "cell_type": "code",
   "execution_count": 7,
   "metadata": {},
   "outputs": [
    {
     "name": "stdout",
     "output_type": "stream",
     "text": [
      "+-------------+-----------------+\n",
      "|generation_id|  avg(stat_speed)|\n",
      "+-------------+-----------------+\n",
      "|            2|61.12765957446808|\n",
      "+-------------+-----------------+\n",
      "\n"
     ]
    }
   ],
   "source": [
    "spark.sql(\n",
    "    \"\"\"\n",
    "    select generation_id, `avg(stat_speed)`\n",
    "    from avg_stats\n",
    "    where `avg(stat_speed)` in (\n",
    "        select  min(`avg(stat_speed)`)\n",
    "        from avg_stats\n",
    "        );\n",
    "    \"\"\"\n",
    ").show()"
   ]
  },
  {
   "attachments": {},
   "cell_type": "markdown",
   "metadata": {},
   "source": [
    "It looks like the earlier generation Pokemons are rather weak compared to newer ones. This is a classic case of 'power creep', as in most games."
   ]
  },
  {
   "cell_type": "code",
   "execution_count": 9,
   "metadata": {},
   "outputs": [
    {
     "name": "stdout",
     "output_type": "stream",
     "text": [
      "Stat speed:\n",
      "\tHighest: 9 - 75\n",
      "\tLowest: 2 - 61\n",
      "\n",
      "Stat special attack:\n",
      "\tHighest: 7 - 75\n",
      "\tLowest: 2 - 63\n",
      "\n",
      " all stats:\n",
      "\tHighest: 7 - 74\n",
      "\tLowest: 2 - 66\n",
      "\n",
      "Stat hp:\n",
      "\tHighest: 9 - 75\n",
      "\tLowest: 1 - 64\n",
      "\n",
      "Stat defense:\n",
      "\tHighest: 7 - 79\n",
      "\tLowest: 1 - 68\n",
      "\n",
      "Stat special defense:\n",
      "\tHighest: 7 - 74\n",
      "\tLowest: 1 - 65\n",
      "\n",
      "Stat attack:\n",
      "\tHighest: 7 - 85\n",
      "\tLowest: 2 - 67\n",
      "\n"
     ]
    }
   ],
   "source": [
    "temp_cols = generation_stats.columns\n",
    "temp_cols.remove(\"generation_id\")\n",
    "\n",
    "for stat in temp_cols:\n",
    "    max = generation_stats.select(F.max(F.col(stat))).collect()[0][0]\n",
    "    min = generation_stats.select(F.min(F.col(stat))).collect()[0][0]\n",
    "    name_max = (\n",
    "        generation_stats.where(F.col(stat) == F.lit(max))\n",
    "        .select(F.col(\"generation_id\"))\n",
    "        .collect()[0][0]\n",
    "        #.capitalize()\n",
    "    )\n",
    "    name_min = (\n",
    "        generation_stats.where(F.col(stat) == F.lit(min))\n",
    "        .select(F.col(\"generation_id\"))\n",
    "        .collect()[0][0]\n",
    "        #.capitalize()\n",
    "    )\n",
    "    stat_pretty = (\n",
    "        stat.replace(\"avg\", \"\")\n",
    "        .replace(\"_\", \" \")\n",
    "        .replace(\"(\", \"\")\n",
    "        .replace(\")\", \"\")\n",
    "        .capitalize()\n",
    "    )\n",
    "    print(\n",
    "        f\"{stat_pretty}:\\n\\tHighest: {name_max} - {int(max)}\\n\\tLowest: {name_min} - {int(min)}\"\n",
    "    )\n",
    "    print()\n"
   ]
  },
  {
   "attachments": {},
   "cell_type": "markdown",
   "metadata": {},
   "source": [
    "2. Find the <b>Pokémon with the best type coverage per generation</b>.\n",
    "    - Need to algorithmically define the coverage = can learn the most amount of moves with different types.\n",
    "    - Need to know the generations."
   ]
  },
  {
   "attachments": {},
   "cell_type": "markdown",
   "metadata": {},
   "source": [
    "Again, we see that G7 emerges as the winner in terms of coverage. A trend?"
   ]
  },
  {
   "cell_type": "code",
   "execution_count": 22,
   "metadata": {},
   "outputs": [
    {
     "name": "stdout",
     "output_type": "stream",
     "text": [
      "+-------------+------------------+\n",
      "|generation_id|      avg_coverage|\n",
      "+-------------+------------------+\n",
      "|            1|0.6058558558558563|\n",
      "|            2|0.6063829787234043|\n",
      "|            3|0.7410256410256406|\n",
      "|            4|0.7020202020202018|\n",
      "|            5|0.6845637583892626|\n",
      "|            6|0.7828282828282829|\n",
      "|            7|1.0081300813008132|\n",
      "|            8|0.6567460317460314|\n",
      "|            9|0.7135922330097088|\n",
      "+-------------+------------------+\n",
      "\n"
     ]
    }
   ],
   "source": [
    "generation_coverage.show()"
   ]
  },
  {
   "attachments": {},
   "cell_type": "markdown",
   "metadata": {},
   "source": [
    "1. For all abilities find all Pokémon that have the ability as <b>a hidden ability</b> and all Pokémon that have it as <b>a non-hidden ability</b>.\n",
    "    - Need to know all abilities.\n",
    "    - Need to break them down into hidden and not hidden abilities."
   ]
  },
  {
   "cell_type": "code",
   "execution_count": 23,
   "metadata": {},
   "outputs": [
    {
     "name": "stdout",
     "output_type": "stream",
     "text": [
      "+-------------+--------------------+--------------------+\n",
      "| ability_name|              hidden|          not_hidden|\n",
      "+-------------+--------------------+--------------------+\n",
      "| adaptability|[skrelp, crawdaun...|  [eevee, porygon-z]|\n",
      "|    aftermath|[trubbish, garbod...|[drifblim, driflo...|\n",
      "|  anger-point|[crabrawler, sand...|[mankey, primeape...|\n",
      "| anticipation| [eevee, ferrothorn]|[hatterene, croag...|\n",
      "|   aroma-veil|[spritzee, aromat...|           [lechonk]|\n",
      "| battle-armor|   [cubone, marowak]|[skorupi, anorith...|\n",
      "|beads-of-ruin|            [chi-yu]|            [chi-yu]|\n",
      "|    big-pecks|[pidgey, pidgeott...|[pidove, bombirdi...|\n",
      "|        blaze| [simisear, pansear]|[chimchar, emboar...|\n",
      "|  bulletproof|[applin, dubwool,...|[hakamo-o, ursalu...|\n",
      "|  chlorophyll|[bulbasaur, cotto...|[vileplume, victr...|\n",
      "|   clear-body|[klang, naclstack...|[metang, drakloak...|\n",
      "|   cloud-nine|[drampa, lickilic...|  [psyduck, golduck]|\n",
      "|  competitive|[kilowattrel, wat...|[igglybuff, jiggl...|\n",
      "|     contrary|[fomantis, shuckl...|    [malamar, inkay]|\n",
      "|    corrosion| [glimmet, glimmora]|[salazzle, salandit]|\n",
      "|  cursed-body|[sinistea, draklo...|[frillish, gengar...|\n",
      "|   cute-charm|  [stufful, milotic]|[delcatty, cleffa...|\n",
      "|         damp|[frillish, parase...|[quagsire, poliwh...|\n",
      "|      defiant|[braviary, falink...|[kingambit, bisha...|\n",
      "+-------------+--------------------+--------------------+\n",
      "only showing top 20 rows\n",
      "\n"
     ]
    }
   ],
   "source": [
    "hidden_ability.show()"
   ]
  },
  {
   "attachments": {},
   "cell_type": "markdown",
   "metadata": {},
   "source": [
    "2. Find Pokémon with similar move-set that do not belong to the same evolution chain and are found in different generations.\n",
    "    - Need to define move set = set of abilities.\n",
    "    - Need to know evolution chains and generations."
   ]
  },
  {
   "attachments": {},
   "cell_type": "markdown",
   "metadata": {},
   "source": [
    "For this task, I thought of transforming the abilities list of strings into a vector of floats, using the TF-IDF method from Statistics/ML. This way, we can calculate a similarity score, the Cosine Similarity (goes from 0 to 1) between two vectors. Then we join the TF-IDF dataframe with itself in an (expensive) Cartesian Join, in order to compute the similarity score between each Pokemon species. Then we use a lower threshold of 0.75 similarity to filter out this massive dataset. The Pokemon pairs are in different generations and evolution chains."
   ]
  },
  {
   "cell_type": "code",
   "execution_count": 25,
   "metadata": {},
   "outputs": [
    {
     "name": "stdout",
     "output_type": "stream",
     "text": [
      "+----------+----------+------------------+\n",
      "|    name_i|    name_j|        sim_cosine|\n",
      "+----------+----------+------------------+\n",
      "|aerodactyl| vespiquen|0.7951824850842304|\n",
      "|     aipom|   pikipek|0.7661804024859917|\n",
      "|     aipom|  trumbeak|0.7661804024859917|\n",
      "|   anorith|    kabuto|0.8247689672422843|\n",
      "|   anorith|  kabutops|0.8247689672422843|\n",
      "|   anorith| type-null|0.8212873335251791|\n",
      "|     arbok|masquerain|0.7845044061125963|\n",
      "|   ariados|  beedrill|0.7899283003409685|\n",
      "|   armaldo|    kabuto|0.8247689672422843|\n",
      "|   armaldo|  kabutops|0.8247689672422843|\n",
      "|   armaldo| type-null|0.8212873335251791|\n",
      "|     azelf|    baltoy|               1.0|\n",
      "|     azelf|  chimecho|               1.0|\n",
      "|     azelf|   claydol|               1.0|\n",
      "|     azelf| cryogonal|               1.0|\n",
      "|     azelf| eelektrik|               1.0|\n",
      "|     azelf|eelektross|               1.0|\n",
      "|     azelf|    flygon|               1.0|\n",
      "|     azelf|    gastly|               1.0|\n",
      "|     azelf|   haunter|               1.0|\n",
      "+----------+----------+------------------+\n",
      "only showing top 20 rows\n",
      "\n"
     ]
    }
   ],
   "source": [
    "cosine_similarity.show()"
   ]
  }
 ],
 "metadata": {
  "kernelspec": {
   "display_name": "Python 3",
   "language": "python",
   "name": "python3"
  },
  "language_info": {
   "codemirror_mode": {
    "name": "ipython",
    "version": 3
   },
   "file_extension": ".py",
   "mimetype": "text/x-python",
   "name": "python",
   "nbconvert_exporter": "python",
   "pygments_lexer": "ipython3",
   "version": "3.10.6"
  },
  "orig_nbformat": 4
 },
 "nbformat": 4,
 "nbformat_minor": 2
}
